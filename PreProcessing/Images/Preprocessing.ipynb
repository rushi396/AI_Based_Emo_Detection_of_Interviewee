{
 "cells": [
  {
   "cell_type": "markdown",
   "id": "0ffd5791",
   "metadata": {},
   "source": [
    "<h1 style=\"text-align:center;font-size:50px;\">Emotion Detection System Implementation</h1>"
   ]
  },
  {
   "cell_type": "markdown",
   "id": "7371db09",
   "metadata": {},
   "source": [
    "# imports"
   ]
  },
  {
   "cell_type": "code",
   "execution_count": null,
   "id": "37ce6a9c",
   "metadata": {},
   "outputs": [],
   "source": []
  }
 ],
 "metadata": {
  "kernelspec": {
   "display_name": "Python 3 (ipykernel)",
   "language": "python",
   "name": "python3"
  },
  "language_info": {
   "codemirror_mode": {
    "name": "ipython",
    "version": 3
   },
   "file_extension": ".py",
   "mimetype": "text/x-python",
   "name": "python",
   "nbconvert_exporter": "python",
   "pygments_lexer": "ipython3",
   "version": "3.10.6"
  }
 },
 "nbformat": 4,
 "nbformat_minor": 5
}
