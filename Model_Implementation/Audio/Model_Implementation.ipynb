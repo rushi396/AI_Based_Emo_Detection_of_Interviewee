{
 "cells": [
  {
   "cell_type": "markdown",
   "id": "9f3b0348",
   "metadata": {},
   "source": [
    "<h1 style=\"text-align:center;font-size:50px;\">Emotion Detection System Implementation</h1>"
   ]
  },
  {
   "cell_type": "markdown",
   "id": "49020be0",
   "metadata": {},
   "source": [
    "# imports"
   ]
  },
  {
   "cell_type": "code",
   "execution_count": null,
   "id": "f236a380",
   "metadata": {},
   "outputs": [],
   "source": []
  }
 ],
 "metadata": {
  "kernelspec": {
   "display_name": "Python 3 (ipykernel)",
   "language": "python",
   "name": "python3"
  },
  "language_info": {
   "codemirror_mode": {
    "name": "ipython",
    "version": 3
   },
   "file_extension": ".py",
   "mimetype": "text/x-python",
   "name": "python",
   "nbconvert_exporter": "python",
   "pygments_lexer": "ipython3",
   "version": "3.10.6"
  }
 },
 "nbformat": 4,
 "nbformat_minor": 5
}
