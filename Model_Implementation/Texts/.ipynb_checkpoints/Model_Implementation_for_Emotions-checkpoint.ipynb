{
 "cells": [
  {
   "cell_type": "code",
   "execution_count": 2,
   "id": "developmental-southwest",
   "metadata": {},
   "outputs": [],
   "source": [
    "import numpy\n",
    "import pandas\n",
    "import matplotlib.pyplot as pyplot\n",
    "import seaborn\n",
    "\n",
    "import nltk\n",
    "from nltk.corpus import stopwords\n",
    "from nltk.stem import WordNetLemmatizer\n",
    "import re\n",
    "\n",
    "from sklearn.metrics import confusion_matrix,classification_report\n",
    "from sklearn.feature_extraction.text import TfidfVectorizer\n",
    "from sklearn.svm import LinearSVC\n",
    "from sklearn.naive_bayes import MultinomialNB\n",
    "from sklearn.linear_model import LogisticRegression\n",
    "from sklearn.ensemble import RandomForestClassifier\n",
    "from sklearn.tree import DecisionTreeClassifier\n",
    "import tensorflow\n",
    "import keras\n",
    "from joblib import dump, load\n",
    "import pickle"
   ]
  },
  {
   "cell_type": "code",
   "execution_count": 3,
   "id": "conditional-stone",
   "metadata": {},
   "outputs": [],
   "source": [
    "# %matplotlib qt\n",
    "%matplotlib inline\n",
    "pyplot.rcParams[\"figure.figsize\"] = (5, 3)"
   ]
  },
  {
   "cell_type": "code",
   "execution_count": 4,
   "id": "whole-camel",
   "metadata": {},
   "outputs": [],
   "source": [
    "word_lemitizer=WordNetLemmatizer()\n",
    "Regular_expression_definition_for_html_tags=re.compile('<.*?>')\n",
    "Regular_expression_definition_for_digits=re.compile('\\d+\\s|\\s\\d+|\\s\\d+\\s')\n",
    "Regular_expression_definition_for_links=re.compile('http://\\S+|https://\\S+')\n",
    "english_stop_words=stopwords.words('english')\n",
    "def preprocessing_of_sentence(text):\n",
    "    word_to_be_handled=[\n",
    "    \"not\",\n",
    "    \"no\",\n",
    "    \"very\"\n",
    "    ]\n",
    "    text=Regular_expression_definition_for_html_tags.sub(r\" \",text)\n",
    "    text=Regular_expression_definition_for_digits.sub(r\" \",text)\n",
    "    text=Regular_expression_definition_for_links.sub(r\" \",text)\n",
    "    punctuations = [\".\",\"=\",\"_\",\"<\",\">\",\",\",\"!\",\"?\",\"'\",'\"',\":\",\";\",\"*\",\"-\",\"/\",\"+\",\"%\",\"$\",\"#\",\"@\",\"(\",\")\",\"[\",\"]\",\"{\",\"}\",'\\n']\n",
    "    for i in punctuations:\n",
    "        text = text.replace(i,\" \")\n",
    "    text=text.lower().split()\n",
    "    text=[word for word in text if word not in english_stop_words and len(word)>1 or word in word_to_be_handled]\n",
    "    text=[word_lemitizer.lemmatize(word) for word in text]\n",
    "    return text"
   ]
  },
  {
   "cell_type": "code",
   "execution_count": 5,
   "id": "prime-newcastle",
   "metadata": {},
   "outputs": [],
   "source": [
    "class_column='label'\n",
    "review_column='text'"
   ]
  },
  {
   "cell_type": "code",
   "execution_count": 6,
   "id": "pleasant-chase",
   "metadata": {},
   "outputs": [],
   "source": [
    "class_list=[\"sadness\",\"joy\",\"love\",\"anger\",\"fear\",\"surprise\"]"
   ]
  },
  {
   "cell_type": "code",
   "execution_count": 7,
   "id": "frozen-concentration",
   "metadata": {},
   "outputs": [],
   "source": [
    "filename=\"Processed_Emotions_Dataset.csv\""
   ]
  },
  {
   "cell_type": "code",
   "execution_count": 8,
   "id": "senior-likelihood",
   "metadata": {},
   "outputs": [],
   "source": [
    "data=pandas.read_csv('../../Data/Preprocessed_Data/Text_Data/'+filename)"
   ]
  },
  {
   "cell_type": "code",
   "execution_count": 85,
   "id": "knowing-allah",
   "metadata": {},
   "outputs": [],
   "source": [
    "data=data.sample(frac=1)"
   ]
  },
  {
   "cell_type": "code",
   "execution_count": 86,
   "id": "prescribed-vector",
   "metadata": {},
   "outputs": [
    {
     "data": {
      "text/html": [
       "<div>\n",
       "<style scoped>\n",
       "    .dataframe tbody tr th:only-of-type {\n",
       "        vertical-align: middle;\n",
       "    }\n",
       "\n",
       "    .dataframe tbody tr th {\n",
       "        vertical-align: top;\n",
       "    }\n",
       "\n",
       "    .dataframe thead th {\n",
       "        text-align: right;\n",
       "    }\n",
       "</style>\n",
       "<table border=\"1\" class=\"dataframe\">\n",
       "  <thead>\n",
       "    <tr style=\"text-align: right;\">\n",
       "      <th></th>\n",
       "      <th>text</th>\n",
       "      <th>label</th>\n",
       "    </tr>\n",
       "  </thead>\n",
       "  <tbody>\n",
       "    <tr>\n",
       "      <th>3111</th>\n",
       "      <td>army</td>\n",
       "      <td>3</td>\n",
       "    </tr>\n",
       "    <tr>\n",
       "      <th>13313</th>\n",
       "      <td>know personally feel like staying bed sleeping...</td>\n",
       "      <td>2</td>\n",
       "    </tr>\n",
       "    <tr>\n",
       "      <th>5643</th>\n",
       "      <td>im sat work late shift putting finishing touch...</td>\n",
       "      <td>2</td>\n",
       "    </tr>\n",
       "    <tr>\n",
       "      <th>18728</th>\n",
       "      <td>feel heart broke barney</td>\n",
       "      <td>0</td>\n",
       "    </tr>\n",
       "    <tr>\n",
       "      <th>9486</th>\n",
       "      <td>dazed confused drowned woman look look wise ma...</td>\n",
       "      <td>0</td>\n",
       "    </tr>\n",
       "    <tr>\n",
       "      <th>...</th>\n",
       "      <td>...</td>\n",
       "      <td>...</td>\n",
       "    </tr>\n",
       "    <tr>\n",
       "      <th>10368</th>\n",
       "      <td>feel privileged part way keep traditional skil...</td>\n",
       "      <td>1</td>\n",
       "    </tr>\n",
       "    <tr>\n",
       "      <th>5428</th>\n",
       "      <td>done music movie production last four year fee...</td>\n",
       "      <td>1</td>\n",
       "    </tr>\n",
       "    <tr>\n",
       "      <th>1602</th>\n",
       "      <td>spent day day feeling very morose every awhile...</td>\n",
       "      <td>0</td>\n",
       "    </tr>\n",
       "    <tr>\n",
       "      <th>4581</th>\n",
       "      <td>wound feeling pleased tightly paced film</td>\n",
       "      <td>1</td>\n",
       "    </tr>\n",
       "    <tr>\n",
       "      <th>15880</th>\n",
       "      <td>get slightly warm feeling coming strange sense...</td>\n",
       "      <td>4</td>\n",
       "    </tr>\n",
       "  </tbody>\n",
       "</table>\n",
       "<p>20000 rows × 2 columns</p>\n",
       "</div>"
      ],
      "text/plain": [
       "                                                    text  label\n",
       "3111                                                army      3\n",
       "13313  know personally feel like staying bed sleeping...      2\n",
       "5643   im sat work late shift putting finishing touch...      2\n",
       "18728                            feel heart broke barney      0\n",
       "9486   dazed confused drowned woman look look wise ma...      0\n",
       "...                                                  ...    ...\n",
       "10368  feel privileged part way keep traditional skil...      1\n",
       "5428   done music movie production last four year fee...      1\n",
       "1602   spent day day feeling very morose every awhile...      0\n",
       "4581            wound feeling pleased tightly paced film      1\n",
       "15880  get slightly warm feeling coming strange sense...      4\n",
       "\n",
       "[20000 rows x 2 columns]"
      ]
     },
     "execution_count": 86,
     "metadata": {},
     "output_type": "execute_result"
    }
   ],
   "source": [
    "data"
   ]
  },
  {
   "cell_type": "markdown",
   "id": "relative-mistake",
   "metadata": {},
   "source": [
    "## Spliting Data"
   ]
  },
  {
   "cell_type": "code",
   "execution_count": 87,
   "id": "parallel-fairy",
   "metadata": {},
   "outputs": [],
   "source": [
    "total_Features=data[review_column]\n",
    "total_Labels=data[class_column]\n",
    "\n",
    "training_Features=total_Features[:16000]\n",
    "training_Labels=total_Labels[:16000]\n",
    "\n",
    "testing_Features=total_Features[16000:]\n",
    "testing_Labels=total_Labels[16000:]"
   ]
  },
  {
   "cell_type": "markdown",
   "id": "crucial-longer",
   "metadata": {},
   "source": [
    "# Vecorization"
   ]
  },
  {
   "cell_type": "code",
   "execution_count": 88,
   "id": "formed-tutorial",
   "metadata": {},
   "outputs": [],
   "source": [
    "Vectorizer=TfidfVectorizer()"
   ]
  },
  {
   "cell_type": "code",
   "execution_count": 89,
   "id": "decreased-belarus",
   "metadata": {},
   "outputs": [],
   "source": [
    "def vectorize_the_input(data):\n",
    "    return Vectorizer.transform(data)"
   ]
  },
  {
   "cell_type": "code",
   "execution_count": 90,
   "id": "occupied-horizontal",
   "metadata": {},
   "outputs": [
    {
     "data": {
      "text/plain": [
       "<20000x15084 sparse matrix of type '<class 'numpy.float64'>'\n",
       "\twith 183731 stored elements in Compressed Sparse Row format>"
      ]
     },
     "execution_count": 90,
     "metadata": {},
     "output_type": "execute_result"
    }
   ],
   "source": [
    "Vectorizer.fit_transform(total_Features)"
   ]
  },
  {
   "cell_type": "code",
   "execution_count": 91,
   "id": "revised-nursing",
   "metadata": {},
   "outputs": [],
   "source": [
    "Training_Vector_Data=Vectorizer.transform(training_Features)\n",
    "Testing_Vector_Data=Vectorizer.transform(testing_Features)"
   ]
  },
  {
   "cell_type": "code",
   "execution_count": 92,
   "id": "greek-packaging",
   "metadata": {},
   "outputs": [
    {
     "data": {
      "text/plain": [
       "(16000, 15084)"
      ]
     },
     "execution_count": 92,
     "metadata": {},
     "output_type": "execute_result"
    }
   ],
   "source": [
    "Training_Vector_Data.shape"
   ]
  },
  {
   "cell_type": "code",
   "execution_count": 93,
   "id": "studied-mainstream",
   "metadata": {},
   "outputs": [
    {
     "data": {
      "text/plain": [
       "(4000, 15084)"
      ]
     },
     "execution_count": 93,
     "metadata": {},
     "output_type": "execute_result"
    }
   ],
   "source": [
    "Testing_Vector_Data.shape"
   ]
  },
  {
   "cell_type": "code",
   "execution_count": 210,
   "id": "stylish-batman",
   "metadata": {},
   "outputs": [],
   "source": [
    "# with open(\"../../Models/Text/Vectorizer.pickle\",\"wb\") as f:\n",
    "#     pickle.dump(Vectorizer,f)"
   ]
  },
  {
   "cell_type": "markdown",
   "id": "noted-thomas",
   "metadata": {},
   "source": [
    "## Input Preparation"
   ]
  },
  {
   "cell_type": "code",
   "execution_count": 95,
   "id": "excellent-discipline",
   "metadata": {},
   "outputs": [
    {
     "name": "stdout",
     "output_type": "stream",
     "text": [
      "['very', 'disappointed', 'performance', 'interview']\n"
     ]
    }
   ],
   "source": [
    "input_=\"i am very disappointed with my performance in interview\"\n",
    "input_=preprocessing_of_sentence(input_)\n",
    "print(input_)\n",
    "input_=vectorize_the_input([\" \".join(input_)])"
   ]
  },
  {
   "cell_type": "code",
   "execution_count": 96,
   "id": "premier-reducing",
   "metadata": {},
   "outputs": [
    {
     "data": {
      "text/plain": [
       "(1, 15084)"
      ]
     },
     "execution_count": 96,
     "metadata": {},
     "output_type": "execute_result"
    }
   ],
   "source": [
    "input_.shape"
   ]
  },
  {
   "cell_type": "markdown",
   "id": "informational-copying",
   "metadata": {},
   "source": [
    "<h1 style=\"text-align:center;font-size:50px;color:red;\">Applying Machine Learning Algorithms 👇</h1>"
   ]
  },
  {
   "cell_type": "markdown",
   "id": "imperial-monitoring",
   "metadata": {},
   "source": [
    "# Statastical Models"
   ]
  },
  {
   "cell_type": "markdown",
   "id": "metric-gasoline",
   "metadata": {},
   "source": [
    "# 1. SVM"
   ]
  },
  {
   "cell_type": "code",
   "execution_count": 97,
   "id": "exciting-binary",
   "metadata": {},
   "outputs": [],
   "source": [
    "svmModel=LinearSVC()"
   ]
  },
  {
   "cell_type": "code",
   "execution_count": 98,
   "id": "sublime-norman",
   "metadata": {},
   "outputs": [
    {
     "data": {
      "text/plain": [
       "LinearSVC()"
      ]
     },
     "execution_count": 98,
     "metadata": {},
     "output_type": "execute_result"
    }
   ],
   "source": [
    "svmModel.fit(Training_Vector_Data,training_Labels)"
   ]
  },
  {
   "cell_type": "code",
   "execution_count": 99,
   "id": "static-prefix",
   "metadata": {},
   "outputs": [],
   "source": [
    "svm_training_predictions=svmModel.predict(Training_Vector_Data)\n",
    "svm_Prediction=svmModel.predict(Testing_Vector_Data)"
   ]
  },
  {
   "cell_type": "markdown",
   "id": "explicit-gospel",
   "metadata": {},
   "source": [
    "#### Training Accuracy 👇"
   ]
  },
  {
   "cell_type": "code",
   "execution_count": 100,
   "id": "general-favor",
   "metadata": {},
   "outputs": [
    {
     "name": "stdout",
     "output_type": "stream",
     "text": [
      "              precision    recall  f1-score   support\n",
      "\n",
      "           0       0.99      0.99      0.99      4684\n",
      "           1       0.99      0.99      0.99      5390\n",
      "           2       0.97      0.97      0.97      1305\n",
      "           3       0.99      0.99      0.99      2162\n",
      "           4       0.98      0.98      0.98      1909\n",
      "           5       0.99      0.97      0.98       550\n",
      "\n",
      "    accuracy                           0.99     16000\n",
      "   macro avg       0.98      0.98      0.98     16000\n",
      "weighted avg       0.99      0.99      0.99     16000\n",
      "\n"
     ]
    },
    {
     "data": {
      "image/png": "[encoded data removed]",
      "text/plain": [
       "<Figure size 360x216 with 2 Axes>"
      ]
     },
     "metadata": {
      "needs_background": "light"
     },
     "output_type": "display_data"
    }
   ],
   "source": [
    "seaborn.heatmap(confusion_matrix(training_Labels,svmModel.predict(Training_Vector_Data)),annot=True,xticklabels=class_list,yticklabels=class_list)\n",
    "print(classification_report(training_Labels,svmModel.predict(Training_Vector_Data)))"
   ]
  },
  {
   "cell_type": "code",
   "execution_count": 101,
   "id": "annual-tuesday",
   "metadata": {},
   "outputs": [
    {
     "name": "stdout",
     "output_type": "stream",
     "text": [
      "              precision    recall  f1-score   support\n",
      "\n",
      "           0       0.91      0.95      0.93      1113\n",
      "           1       0.90      0.92      0.91      1371\n",
      "           2       0.78      0.80      0.79       336\n",
      "           3       0.89      0.88      0.88       547\n",
      "           4       0.87      0.83      0.85       464\n",
      "           5       0.88      0.66      0.75       169\n",
      "\n",
      "    accuracy                           0.89      4000\n",
      "   macro avg       0.87      0.84      0.85      4000\n",
      "weighted avg       0.89      0.89      0.89      4000\n",
      "\n"
     ]
    },
    {
     "data": {
      "image/png": "[encoded data removed]",
      "text/plain": [
       "<Figure size 360x216 with 2 Axes>"
      ]
     },
     "metadata": {
      "needs_background": "light"
     },
     "output_type": "display_data"
    }
   ],
   "source": [
    "seaborn.heatmap(confusion_matrix(testing_Labels,svm_Prediction),annot=True,xticklabels=class_list,yticklabels=class_list)\n",
    "print(classification_report(testing_Labels,svm_Prediction))"
   ]
  },
  {
   "cell_type": "code",
   "execution_count": 102,
   "id": "thirty-classics",
   "metadata": {},
   "outputs": [
    {
     "data": {
      "text/plain": [
       "'sadness'"
      ]
     },
     "execution_count": 102,
     "metadata": {},
     "output_type": "execute_result"
    }
   ],
   "source": [
    "class_list[svmModel.predict(input_)[0]]"
   ]
  },
  {
   "cell_type": "code",
   "execution_count": 205,
   "id": "nervous-field",
   "metadata": {},
   "outputs": [
    {
     "data": {
      "text/plain": [
       "['../../Models/Text/svmModel.joblib']"
      ]
     },
     "execution_count": 205,
     "metadata": {},
     "output_type": "execute_result"
    }
   ],
   "source": [
    "# dump(svmModel, '../../Models/Text/svmModel.joblib')"
   ]
  },
  {
   "cell_type": "markdown",
   "id": "smaller-dimension",
   "metadata": {},
   "source": [
    "# 2. Logistic Regression"
   ]
  },
  {
   "cell_type": "code",
   "execution_count": 104,
   "id": "published-chinese",
   "metadata": {},
   "outputs": [],
   "source": [
    "logisticModel=LogisticRegression(max_iter=25000)"
   ]
  },
  {
   "cell_type": "code",
   "execution_count": 105,
   "id": "operating-satin",
   "metadata": {},
   "outputs": [
    {
     "data": {
      "text/plain": [
       "LogisticRegression(max_iter=25000)"
      ]
     },
     "execution_count": 105,
     "metadata": {},
     "output_type": "execute_result"
    }
   ],
   "source": [
    "logisticModel.fit(Training_Vector_Data,training_Labels)"
   ]
  },
  {
   "cell_type": "code",
   "execution_count": 106,
   "id": "apparent-theology",
   "metadata": {},
   "outputs": [],
   "source": [
    "logistic_training_Prediction=logisticModel.predict(Training_Vector_Data)\n",
    "logistic_Prediction=logisticModel.predict(Testing_Vector_Data)"
   ]
  },
  {
   "cell_type": "markdown",
   "id": "overall-generation",
   "metadata": {},
   "source": [
    "#### Training Accuracy 👇"
   ]
  },
  {
   "cell_type": "code",
   "execution_count": 107,
   "id": "presidential-equipment",
   "metadata": {},
   "outputs": [
    {
     "name": "stdout",
     "output_type": "stream",
     "text": [
      "              precision    recall  f1-score   support\n",
      "\n",
      "           0       0.95      0.98      0.97      4684\n",
      "           1       0.93      0.98      0.95      5390\n",
      "           2       0.94      0.84      0.89      1305\n",
      "           3       0.96      0.93      0.95      2162\n",
      "           4       0.94      0.91      0.93      1909\n",
      "           5       0.97      0.73      0.83       550\n",
      "\n",
      "    accuracy                           0.95     16000\n",
      "   macro avg       0.95      0.90      0.92     16000\n",
      "weighted avg       0.95      0.95      0.94     16000\n",
      "\n"
     ]
    },
    {
     "data": {
      "image/png": "[encoded data removed]",
      "text/plain": [
       "<Figure size 360x216 with 2 Axes>"
      ]
     },
     "metadata": {
      "needs_background": "light"
     },
     "output_type": "display_data"
    }
   ],
   "source": [
    "seaborn.heatmap(confusion_matrix(training_Labels,logistic_training_Prediction),annot=True,xticklabels=class_list,yticklabels=class_list)\n",
    "print(classification_report(training_Labels,logistic_training_Prediction))"
   ]
  },
  {
   "cell_type": "code",
   "execution_count": 108,
   "id": "collect-sacramento",
   "metadata": {},
   "outputs": [
    {
     "name": "stdout",
     "output_type": "stream",
     "text": [
      "              precision    recall  f1-score   support\n",
      "\n",
      "           0       0.88      0.95      0.91      1113\n",
      "           1       0.83      0.95      0.89      1371\n",
      "           2       0.85      0.66      0.75       336\n",
      "           3       0.90      0.80      0.84       547\n",
      "           4       0.87      0.74      0.80       464\n",
      "           5       0.89      0.48      0.62       169\n",
      "\n",
      "    accuracy                           0.86      4000\n",
      "   macro avg       0.87      0.76      0.80      4000\n",
      "weighted avg       0.86      0.86      0.85      4000\n",
      "\n"
     ]
    },
    {
     "data": {
      "image/png": "[encoded data removed]",
      "text/plain": [
       "<Figure size 360x216 with 2 Axes>"
      ]
     },
     "metadata": {
      "needs_background": "light"
     },
     "output_type": "display_data"
    }
   ],
   "source": [
    "seaborn.heatmap(confusion_matrix(testing_Labels,logistic_Prediction),annot=True,xticklabels=class_list,yticklabels=class_list)\n",
    "print(classification_report(testing_Labels,logistic_Prediction))"
   ]
  },
  {
   "cell_type": "code",
   "execution_count": 109,
   "id": "spanish-shirt",
   "metadata": {},
   "outputs": [
    {
     "data": {
      "text/plain": [
       "'sadness'"
      ]
     },
     "execution_count": 109,
     "metadata": {},
     "output_type": "execute_result"
    }
   ],
   "source": [
    "class_list[logisticModel.predict(input_)[0]]"
   ]
  },
  {
   "cell_type": "code",
   "execution_count": 206,
   "id": "manufactured-encounter",
   "metadata": {},
   "outputs": [
    {
     "data": {
      "text/plain": [
       "['../../Models/Text/logisticModel.joblib']"
      ]
     },
     "execution_count": 206,
     "metadata": {},
     "output_type": "execute_result"
    }
   ],
   "source": [
    "# dump(logisticModel, '../../Models/Text/logisticModel.joblib')"
   ]
  },
  {
   "cell_type": "markdown",
   "id": "clean-sandwich",
   "metadata": {},
   "source": [
    "# 3. MultinomialNB (naive_bayes)"
   ]
  },
  {
   "cell_type": "code",
   "execution_count": 111,
   "id": "proud-cigarette",
   "metadata": {},
   "outputs": [],
   "source": [
    "naive_bayesModel=MultinomialNB()"
   ]
  },
  {
   "cell_type": "code",
   "execution_count": 112,
   "id": "elder-central",
   "metadata": {},
   "outputs": [
    {
     "data": {
      "text/plain": [
       "MultinomialNB()"
      ]
     },
     "execution_count": 112,
     "metadata": {},
     "output_type": "execute_result"
    }
   ],
   "source": [
    "naive_bayesModel.fit(Training_Vector_Data,training_Labels)"
   ]
  },
  {
   "cell_type": "code",
   "execution_count": 113,
   "id": "little-power",
   "metadata": {},
   "outputs": [],
   "source": [
    "naive_bayes_training_Prediction=naive_bayesModel.predict(Training_Vector_Data)\n",
    "naive_bayesPrediction=naive_bayesModel.predict(Testing_Vector_Data)"
   ]
  },
  {
   "cell_type": "code",
   "execution_count": 114,
   "id": "vital-there",
   "metadata": {},
   "outputs": [
    {
     "name": "stdout",
     "output_type": "stream",
     "text": [
      "              precision    recall  f1-score   support\n",
      "\n",
      "           0       0.75      0.98      0.85      4684\n",
      "           1       0.68      0.99      0.81      5390\n",
      "           2       1.00      0.12      0.21      1305\n",
      "           3       0.98      0.50      0.66      2162\n",
      "           4       0.96      0.39      0.55      1909\n",
      "           5       1.00      0.01      0.02       550\n",
      "\n",
      "    accuracy                           0.74     16000\n",
      "   macro avg       0.90      0.50      0.52     16000\n",
      "weighted avg       0.81      0.74      0.69     16000\n",
      "\n"
     ]
    },
    {
     "data": {
      "image/png": "[encoded data removed]",
      "text/plain": [
       "<Figure size 360x216 with 2 Axes>"
      ]
     },
     "metadata": {
      "needs_background": "light"
     },
     "output_type": "display_data"
    }
   ],
   "source": [
    "seaborn.heatmap(confusion_matrix(training_Labels,naive_bayes_training_Prediction),annot=True,xticklabels=class_list,yticklabels=class_list)\n",
    "print(classification_report(training_Labels,naive_bayes_training_Prediction))"
   ]
  },
  {
   "cell_type": "code",
   "execution_count": 115,
   "id": "looking-diagram",
   "metadata": {},
   "outputs": [
    {
     "name": "stdout",
     "output_type": "stream",
     "text": [
      "              precision    recall  f1-score   support\n",
      "\n",
      "           0       0.66      0.93      0.77      1113\n",
      "           1       0.63      0.98      0.77      1371\n",
      "           2       1.00      0.05      0.10       336\n",
      "           3       0.95      0.31      0.46       547\n",
      "           4       0.88      0.23      0.37       464\n",
      "           5       0.00      0.00      0.00       169\n",
      "\n",
      "    accuracy                           0.67      4000\n",
      "   macro avg       0.69      0.42      0.41      4000\n",
      "weighted avg       0.72      0.67      0.59      4000\n",
      "\n"
     ]
    },
    {
     "name": "stderr",
     "output_type": "stream",
     "text": [
      "C:\\Users\\Pankaj singh\\AppData\\Roaming\\Python\\Python39\\site-packages\\sklearn\\metrics\\_classification.py:1248: UndefinedMetricWarning: Precision and F-score are ill-defined and being set to 0.0 in labels with no predicted samples. Use `zero_division` parameter to control this behavior.\n",
      "  _warn_prf(average, modifier, msg_start, len(result))\n",
      "C:\\Users\\Pankaj singh\\AppData\\Roaming\\Python\\Python39\\site-packages\\sklearn\\metrics\\_classification.py:1248: UndefinedMetricWarning: Precision and F-score are ill-defined and being set to 0.0 in labels with no predicted samples. Use `zero_division` parameter to control this behavior.\n",
      "  _warn_prf(average, modifier, msg_start, len(result))\n",
      "C:\\Users\\Pankaj singh\\AppData\\Roaming\\Python\\Python39\\site-packages\\sklearn\\metrics\\_classification.py:1248: UndefinedMetricWarning: Precision and F-score are ill-defined and being set to 0.0 in labels with no predicted samples. Use `zero_division` parameter to control this behavior.\n",
      "  _warn_prf(average, modifier, msg_start, len(result))\n"
     ]
    },
    {
     "data": {
      "image/png": "[encoded data removed]",
      "text/plain": [
       "<Figure size 360x216 with 2 Axes>"
      ]
     },
     "metadata": {
      "needs_background": "light"
     },
     "output_type": "display_data"
    }
   ],
   "source": [
    "seaborn.heatmap(confusion_matrix(testing_Labels,naive_bayesPrediction),annot=True,xticklabels=class_list,yticklabels=class_list)\n",
    "print(classification_report(testing_Labels,naive_bayesPrediction))"
   ]
  },
  {
   "cell_type": "code",
   "execution_count": 116,
   "id": "freelance-michael",
   "metadata": {},
   "outputs": [
    {
     "data": {
      "text/plain": [
       "'sadness'"
      ]
     },
     "execution_count": 116,
     "metadata": {},
     "output_type": "execute_result"
    }
   ],
   "source": [
    "class_list[naive_bayesModel.predict(input_)[0]]"
   ]
  },
  {
   "cell_type": "code",
   "execution_count": 207,
   "id": "central-organization",
   "metadata": {},
   "outputs": [
    {
     "data": {
      "text/plain": [
       "['../../Models/Text/naive_bayesModel.joblib']"
      ]
     },
     "execution_count": 207,
     "metadata": {},
     "output_type": "execute_result"
    }
   ],
   "source": [
    "# dump(naive_bayesModel, '../../Models/Text/naive_bayesModel.joblib')"
   ]
  },
  {
   "cell_type": "markdown",
   "id": "disturbed-candidate",
   "metadata": {},
   "source": [
    "# 4. RandomForestClassifier"
   ]
  },
  {
   "cell_type": "code",
   "execution_count": 118,
   "id": "acoustic-memorabilia",
   "metadata": {},
   "outputs": [],
   "source": [
    "randomForestClassifierModel=RandomForestClassifier(max_depth=10)"
   ]
  },
  {
   "cell_type": "code",
   "execution_count": 119,
   "id": "involved-liberia",
   "metadata": {},
   "outputs": [
    {
     "data": {
      "text/plain": [
       "RandomForestClassifier(max_depth=10)"
      ]
     },
     "execution_count": 119,
     "metadata": {},
     "output_type": "execute_result"
    }
   ],
   "source": [
    "randomForestClassifierModel.fit(Training_Vector_Data,training_Labels)"
   ]
  },
  {
   "cell_type": "code",
   "execution_count": 120,
   "id": "charged-holmes",
   "metadata": {},
   "outputs": [],
   "source": [
    "randomForestClassifier_training_Prediction=randomForestClassifierModel.predict(Training_Vector_Data)\n",
    "randomForestClassifierPrediction=randomForestClassifierModel.predict(Testing_Vector_Data)"
   ]
  },
  {
   "cell_type": "code",
   "execution_count": 121,
   "id": "devoted-significance",
   "metadata": {},
   "outputs": [
    {
     "name": "stdout",
     "output_type": "stream",
     "text": [
      "              precision    recall  f1-score   support\n",
      "\n",
      "           0       0.97      0.21      0.34      4684\n",
      "           1       0.36      1.00      0.53      5390\n",
      "           2       0.00      0.00      0.00      1305\n",
      "           3       1.00      0.00      0.01      2162\n",
      "           4       1.00      0.00      0.01      1909\n",
      "           5       0.00      0.00      0.00       550\n",
      "\n",
      "    accuracy                           0.40     16000\n",
      "   macro avg       0.56      0.20      0.15     16000\n",
      "weighted avg       0.66      0.40      0.28     16000\n",
      "\n"
     ]
    },
    {
     "name": "stderr",
     "output_type": "stream",
     "text": [
      "C:\\Users\\Pankaj singh\\AppData\\Roaming\\Python\\Python39\\site-packages\\sklearn\\metrics\\_classification.py:1248: UndefinedMetricWarning: Precision and F-score are ill-defined and being set to 0.0 in labels with no predicted samples. Use `zero_division` parameter to control this behavior.\n",
      "  _warn_prf(average, modifier, msg_start, len(result))\n",
      "C:\\Users\\Pankaj singh\\AppData\\Roaming\\Python\\Python39\\site-packages\\sklearn\\metrics\\_classification.py:1248: UndefinedMetricWarning: Precision and F-score are ill-defined and being set to 0.0 in labels with no predicted samples. Use `zero_division` parameter to control this behavior.\n",
      "  _warn_prf(average, modifier, msg_start, len(result))\n",
      "C:\\Users\\Pankaj singh\\AppData\\Roaming\\Python\\Python39\\site-packages\\sklearn\\metrics\\_classification.py:1248: UndefinedMetricWarning: Precision and F-score are ill-defined and being set to 0.0 in labels with no predicted samples. Use `zero_division` parameter to control this behavior.\n",
      "  _warn_prf(average, modifier, msg_start, len(result))\n"
     ]
    },
    {
     "data": {
      "image/png": "[encoded data removed]",
      "text/plain": [
       "<Figure size 360x216 with 2 Axes>"
      ]
     },
     "metadata": {
      "needs_background": "light"
     },
     "output_type": "display_data"
    }
   ],
   "source": [
    "seaborn.heatmap(confusion_matrix(training_Labels,randomForestClassifier_training_Prediction),annot=True,xticklabels=class_list,yticklabels=class_list)\n",
    "print(classification_report(training_Labels,randomForestClassifier_training_Prediction))"
   ]
  },
  {
   "cell_type": "code",
   "execution_count": 122,
   "id": "spanish-kingdom",
   "metadata": {
    "scrolled": false
   },
   "outputs": [
    {
     "name": "stdout",
     "output_type": "stream",
     "text": [
      "              precision    recall  f1-score   support\n",
      "\n",
      "           0       0.88      0.14      0.24      1113\n",
      "           1       0.36      1.00      0.53      1371\n",
      "           2       0.00      0.00      0.00       336\n",
      "           3       1.00      0.00      0.01       547\n",
      "           4       0.00      0.00      0.00       464\n",
      "           5       0.00      0.00      0.00       169\n",
      "\n",
      "    accuracy                           0.38      4000\n",
      "   macro avg       0.37      0.19      0.13      4000\n",
      "weighted avg       0.50      0.38      0.25      4000\n",
      "\n"
     ]
    },
    {
     "name": "stderr",
     "output_type": "stream",
     "text": [
      "C:\\Users\\Pankaj singh\\AppData\\Roaming\\Python\\Python39\\site-packages\\sklearn\\metrics\\_classification.py:1248: UndefinedMetricWarning: Precision and F-score are ill-defined and being set to 0.0 in labels with no predicted samples. Use `zero_division` parameter to control this behavior.\n",
      "  _warn_prf(average, modifier, msg_start, len(result))\n",
      "C:\\Users\\Pankaj singh\\AppData\\Roaming\\Python\\Python39\\site-packages\\sklearn\\metrics\\_classification.py:1248: UndefinedMetricWarning: Precision and F-score are ill-defined and being set to 0.0 in labels with no predicted samples. Use `zero_division` parameter to control this behavior.\n",
      "  _warn_prf(average, modifier, msg_start, len(result))\n",
      "C:\\Users\\Pankaj singh\\AppData\\Roaming\\Python\\Python39\\site-packages\\sklearn\\metrics\\_classification.py:1248: UndefinedMetricWarning: Precision and F-score are ill-defined and being set to 0.0 in labels with no predicted samples. Use `zero_division` parameter to control this behavior.\n",
      "  _warn_prf(average, modifier, msg_start, len(result))\n"
     ]
    },
    {
     "data": {
      "image/png": "[encoded data removed]",
      "text/plain": [
       "<Figure size 360x216 with 2 Axes>"
      ]
     },
     "metadata": {
      "needs_background": "light"
     },
     "output_type": "display_data"
    }
   ],
   "source": [
    "seaborn.heatmap(confusion_matrix(testing_Labels,randomForestClassifierPrediction),annot=True)\n",
    "print(classification_report(testing_Labels,randomForestClassifierPrediction))"
   ]
  },
  {
   "cell_type": "code",
   "execution_count": 123,
   "id": "advanced-loading",
   "metadata": {},
   "outputs": [
    {
     "data": {
      "text/plain": [
       "'joy'"
      ]
     },
     "execution_count": 123,
     "metadata": {},
     "output_type": "execute_result"
    }
   ],
   "source": [
    "class_list[randomForestClassifierModel.predict(input_)[0]]"
   ]
  },
  {
   "cell_type": "code",
   "execution_count": 209,
   "id": "partial-leader",
   "metadata": {},
   "outputs": [
    {
     "data": {
      "text/plain": [
       "['../../Models/Text/randomForestClassifierModel.joblib']"
      ]
     },
     "execution_count": 209,
     "metadata": {},
     "output_type": "execute_result"
    }
   ],
   "source": [
    "# dump(randomForestClassifierModel, '../../Models/Text/randomForestClassifierModel.joblib')"
   ]
  },
  {
   "cell_type": "markdown",
   "id": "bibliographic-brown",
   "metadata": {},
   "source": [
    "# 5. DecisionTreeClassifier"
   ]
  },
  {
   "cell_type": "code",
   "execution_count": 125,
   "id": "biological-thesaurus",
   "metadata": {},
   "outputs": [],
   "source": [
    "decisionTreeClassifierModel=DecisionTreeClassifier(max_depth=10)"
   ]
  },
  {
   "cell_type": "code",
   "execution_count": 126,
   "id": "respiratory-bridal",
   "metadata": {},
   "outputs": [
    {
     "data": {
      "text/plain": [
       "DecisionTreeClassifier(max_depth=10)"
      ]
     },
     "execution_count": 126,
     "metadata": {},
     "output_type": "execute_result"
    }
   ],
   "source": [
    "decisionTreeClassifierModel.fit(Training_Vector_Data,training_Labels)"
   ]
  },
  {
   "cell_type": "code",
   "execution_count": 127,
   "id": "expressed-matter",
   "metadata": {},
   "outputs": [],
   "source": [
    "decisionTreeClassifier_training_Prediction=decisionTreeClassifierModel.predict(Training_Vector_Data)\n",
    "decisionTreeClassifierPrediction=decisionTreeClassifierModel.predict(Testing_Vector_Data)"
   ]
  },
  {
   "cell_type": "code",
   "execution_count": 128,
   "id": "ideal-suggestion",
   "metadata": {},
   "outputs": [
    {
     "name": "stdout",
     "output_type": "stream",
     "text": [
      "              precision    recall  f1-score   support\n",
      "\n",
      "           0       0.88      0.00      0.00      4684\n",
      "           1       0.35      1.00      0.52      5390\n",
      "           2       1.00      0.00      0.00      1305\n",
      "           3       1.00      0.03      0.06      2162\n",
      "           4       0.91      0.20      0.33      1909\n",
      "           5       0.86      0.36      0.50       550\n",
      "\n",
      "    accuracy                           0.38     16000\n",
      "   macro avg       0.83      0.26      0.24     16000\n",
      "weighted avg       0.73      0.38      0.24     16000\n",
      "\n"
     ]
    },
    {
     "data": {
      "image/png": "[encoded data removed]",
      "text/plain": [
       "<Figure size 360x216 with 2 Axes>"
      ]
     },
     "metadata": {
      "needs_background": "light"
     },
     "output_type": "display_data"
    }
   ],
   "source": [
    "seaborn.heatmap(confusion_matrix(training_Labels,decisionTreeClassifier_training_Prediction),annot=True,xticklabels=class_list,yticklabels=class_list)\n",
    "print(classification_report(training_Labels,decisionTreeClassifier_training_Prediction))"
   ]
  },
  {
   "cell_type": "code",
   "execution_count": 129,
   "id": "suited-bristol",
   "metadata": {},
   "outputs": [
    {
     "name": "stdout",
     "output_type": "stream",
     "text": [
      "              precision    recall  f1-score   support\n",
      "\n",
      "           0       0.00      0.00      0.00      1113\n",
      "           1       0.36      1.00      0.53      1371\n",
      "           2       0.00      0.00      0.00       336\n",
      "           3       0.84      0.03      0.06       547\n",
      "           4       0.75      0.13      0.22       464\n",
      "           5       0.84      0.34      0.48       169\n",
      "\n",
      "    accuracy                           0.38      4000\n",
      "   macro avg       0.47      0.25      0.21      4000\n",
      "weighted avg       0.36      0.38      0.23      4000\n",
      "\n"
     ]
    },
    {
     "name": "stderr",
     "output_type": "stream",
     "text": [
      "C:\\Users\\Pankaj singh\\AppData\\Roaming\\Python\\Python39\\site-packages\\sklearn\\metrics\\_classification.py:1248: UndefinedMetricWarning: Precision and F-score are ill-defined and being set to 0.0 in labels with no predicted samples. Use `zero_division` parameter to control this behavior.\n",
      "  _warn_prf(average, modifier, msg_start, len(result))\n",
      "C:\\Users\\Pankaj singh\\AppData\\Roaming\\Python\\Python39\\site-packages\\sklearn\\metrics\\_classification.py:1248: UndefinedMetricWarning: Precision and F-score are ill-defined and being set to 0.0 in labels with no predicted samples. Use `zero_division` parameter to control this behavior.\n",
      "  _warn_prf(average, modifier, msg_start, len(result))\n",
      "C:\\Users\\Pankaj singh\\AppData\\Roaming\\Python\\Python39\\site-packages\\sklearn\\metrics\\_classification.py:1248: UndefinedMetricWarning: Precision and F-score are ill-defined and being set to 0.0 in labels with no predicted samples. Use `zero_division` parameter to control this behavior.\n",
      "  _warn_prf(average, modifier, msg_start, len(result))\n"
     ]
    },
    {
     "data": {
      "image/png": "[encoded data removed]",
      "text/plain": [
       "<Figure size 360x216 with 2 Axes>"
      ]
     },
     "metadata": {
      "needs_background": "light"
     },
     "output_type": "display_data"
    }
   ],
   "source": [
    "seaborn.heatmap(confusion_matrix(testing_Labels,decisionTreeClassifierPrediction),annot=True)\n",
    "print(classification_report(testing_Labels,decisionTreeClassifierPrediction))"
   ]
  },
  {
   "cell_type": "code",
   "execution_count": 130,
   "id": "found-charge",
   "metadata": {
    "scrolled": true
   },
   "outputs": [
    {
     "data": {
      "text/plain": [
       "'joy'"
      ]
     },
     "execution_count": 130,
     "metadata": {},
     "output_type": "execute_result"
    }
   ],
   "source": [
    "class_list[decisionTreeClassifierModel.predict(input_)[0]]"
   ]
  },
  {
   "cell_type": "code",
   "execution_count": 131,
   "id": "aware-reduction",
   "metadata": {},
   "outputs": [],
   "source": [
    "# dump(decisionTreeClassifierModel, '../Models/decisionTreeClassifierModel.joblib')"
   ]
  },
  {
   "cell_type": "markdown",
   "id": "answering-discovery",
   "metadata": {},
   "source": [
    "# DEEP LEARNING APPROACH"
   ]
  },
  {
   "cell_type": "code",
   "execution_count": 189,
   "id": "latter-wings",
   "metadata": {},
   "outputs": [],
   "source": [
    "Deep_Learning_Training_Data=Training_Vector_Data[:10000]\n",
    "Deep_Learning_Testng_Data=Testing_Vector_Data[:10000]\n",
    "Deep_Learning_training_labels=training_Labels[:10000]\n",
    "Deep_Learning_testting_labels=testing_Labels[:10000]"
   ]
  },
  {
   "cell_type": "markdown",
   "id": "bizarre-novel",
   "metadata": {},
   "source": [
    "### Defining Neural Network Architecture"
   ]
  },
  {
   "cell_type": "code",
   "execution_count": 191,
   "id": "elder-unknown",
   "metadata": {},
   "outputs": [],
   "source": [
    "NeuralNetworkModel1=keras.models.Sequential([\n",
    "         keras.layers.Dense(units=16, activation='relu',input_dim=Deep_Learning_Training_Data.shape[1]),\n",
    "         keras.layers.Dense(units=8, activation='relu'),\n",
    "         keras.layers.Dense(units=6, activation='softmax')\n",
    "    ]\n",
    " )"
   ]
  },
  {
   "cell_type": "code",
   "execution_count": 192,
   "id": "separate-wheel",
   "metadata": {},
   "outputs": [
    {
     "name": "stdout",
     "output_type": "stream",
     "text": [
      "Model: \"sequential_9\"\n",
      "_________________________________________________________________\n",
      "Layer (type)                 Output Shape              Param #   \n",
      "=================================================================\n",
      "dense_27 (Dense)             (None, 16)                241360    \n",
      "_________________________________________________________________\n",
      "dense_28 (Dense)             (None, 8)                 136       \n",
      "_________________________________________________________________\n",
      "dense_29 (Dense)             (None, 6)                 54        \n",
      "=================================================================\n",
      "Total params: 241,550\n",
      "Trainable params: 241,550\n",
      "Non-trainable params: 0\n",
      "_________________________________________________________________\n"
     ]
    }
   ],
   "source": [
    "NeuralNetworkModel1.summary()"
   ]
  },
  {
   "cell_type": "code",
   "execution_count": 193,
   "id": "prerequisite-motion",
   "metadata": {},
   "outputs": [],
   "source": [
    "NeuralNetworkModel1.compile(optimizer='adam',loss='sparse_categorical_crossentropy',metrics=['accuracy'])"
   ]
  },
  {
   "cell_type": "code",
   "execution_count": 194,
   "id": "negative-overview",
   "metadata": {},
   "outputs": [
    {
     "name": "stdout",
     "output_type": "stream",
     "text": [
      "Epoch 1/10\n",
      "400/400 [==============================] - 3s 6ms/step - loss: 1.4603 - accuracy: 0.4521 - val_loss: 1.1516 - val_accuracy: 0.5890\n",
      "Epoch 2/10\n",
      "400/400 [==============================] - 2s 4ms/step - loss: 0.8480 - accuracy: 0.6780 - val_loss: 0.8467 - val_accuracy: 0.6955\n",
      "Epoch 3/10\n",
      "400/400 [==============================] - 2s 4ms/step - loss: 0.5330 - accuracy: 0.8213 - val_loss: 0.7089 - val_accuracy: 0.7487\n",
      "Epoch 4/10\n",
      "400/400 [==============================] - 2s 4ms/step - loss: 0.3479 - accuracy: 0.8811 - val_loss: 0.6280 - val_accuracy: 0.7918\n",
      "Epoch 5/10\n",
      "400/400 [==============================] - 2s 4ms/step - loss: 0.2022 - accuracy: 0.9522 - val_loss: 0.5635 - val_accuracy: 0.8180\n",
      "Epoch 6/10\n",
      "400/400 [==============================] - 2s 4ms/step - loss: 0.1059 - accuracy: 0.9818 - val_loss: 0.5386 - val_accuracy: 0.8257\n",
      "Epoch 7/10\n",
      "400/400 [==============================] - 2s 4ms/step - loss: 0.0614 - accuracy: 0.9912 - val_loss: 0.5544 - val_accuracy: 0.8305\n",
      "Epoch 8/10\n",
      "400/400 [==============================] - 2s 5ms/step - loss: 0.0388 - accuracy: 0.9934 - val_loss: 0.5697 - val_accuracy: 0.8300\n",
      "Epoch 9/10\n",
      "400/400 [==============================] - 2s 5ms/step - loss: 0.0271 - accuracy: 0.9948 - val_loss: 0.6034 - val_accuracy: 0.8275\n",
      "Epoch 10/10\n",
      "400/400 [==============================] - 2s 5ms/step - loss: 0.0206 - accuracy: 0.9951 - val_loss: 0.6155 - val_accuracy: 0.8270\n"
     ]
    },
    {
     "data": {
      "text/plain": [
       "<keras.callbacks.History at 0x2139ca75940>"
      ]
     },
     "execution_count": 194,
     "metadata": {},
     "output_type": "execute_result"
    }
   ],
   "source": [
    "NeuralNetworkModel1.fit(Deep_Learning_Training_Data.toarray(),Deep_Learning_training_labels.to_numpy(),epochs=10,verbose=1,batch_size=25,validation_data=(Deep_Learning_Testng_Data.toarray(),Deep_Learning_testting_labels.to_numpy()))"
   ]
  },
  {
   "cell_type": "code",
   "execution_count": 211,
   "id": "underlying-advancement",
   "metadata": {},
   "outputs": [],
   "source": [
    "# NeuralNetworkModel1.save(\"../../Models/Text/NeuralNetworkModel1.h5\")"
   ]
  },
  {
   "cell_type": "code",
   "execution_count": 204,
   "id": "hidden-manchester",
   "metadata": {},
   "outputs": [
    {
     "data": {
      "text/plain": [
       "'sadness'"
      ]
     },
     "execution_count": 204,
     "metadata": {},
     "output_type": "execute_result"
    }
   ],
   "source": [
    "class_list[list(NeuralNetworkModel1.predict([input_])[0]).index(max(NeuralNetworkModel1.predict([input_])[0]))]"
   ]
  },
  {
   "cell_type": "code",
   "execution_count": null,
   "id": "heavy-bennett",
   "metadata": {},
   "outputs": [],
   "source": []
  }
 ],
 "metadata": {
  "kernelspec": {
   "display_name": "Python 3",
   "language": "python",
   "name": "python3"
  },
  "language_info": {
   "codemirror_mode": {
    "name": "ipython",
    "version": 3
   },
   "file_extension": ".py",
   "mimetype": "text/x-python",
   "name": "python",
   "nbconvert_exporter": "python",
   "pygments_lexer": "ipython3",
   "version": "3.9.2"
  }
 },
 "nbformat": 4,
 "nbformat_minor": 5
}
